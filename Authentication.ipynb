{
 "cells": [
  {
   "cell_type": "code",
   "execution_count": 1,
   "metadata": {},
   "outputs": [],
   "source": [
    "import tkinter as tk\n",
    "\n",
    "def validate_login():\n",
    "    username = entry_username.get()\n",
    "    password = entry_password.get()\n",
    "    \n",
    "    if username == \"admin\" and password == \"password\":\n",
    "        label_status.config(text=\"Login Successful\", fg=\"green\")\n",
    "    else:\n",
    "        label_status.config(text=\"Invalid Credentials\", fg=\"red\")\n",
    "\n",
    "# Create the main window\n",
    "window = tk.Tk()\n",
    "window.title(\"Finding Missing Person\")\n",
    "window.geometry('550x250')\n",
    "\n",
    "# Add a heading\n",
    "label_heading = tk.Label(window, text=\"Finding Missing Person\", bg='maroon', fg='white', font=('arial', 13, 'bold'))\n",
    "label_heading.pack(pady=10)\n",
    "\n",
    "# Create a frame for the login form\n",
    "frame_login = tk.Frame(window)\n",
    "frame_login.pack(pady=20)\n",
    "\n",
    "# Create username label and entry\n",
    "label_username = tk.Label(frame_login, text=\"Username:\")\n",
    "label_username.grid(row=0, column=0, padx=10, pady=5)\n",
    "entry_username = tk.Entry(frame_login)\n",
    "entry_username.grid(row=0, column=1)\n",
    "\n",
    "# Create password label and entry\n",
    "label_password = tk.Label(frame_login, text=\"Password:\")\n",
    "label_password.grid(row=1, column=0, padx=10, pady=5)\n",
    "entry_password = tk.Entry(frame_login, show=\"*\")\n",
    "entry_password.grid(row=1, column=1)\n",
    "\n",
    "# Create login button\n",
    "button_login = tk.Button(window, text=\"Login\", command=validate_login)\n",
    "button_login.pack()\n",
    "\n",
    "# Create status label\n",
    "label_status = tk.Label(window, text=\"\", fg=\"red\")\n",
    "label_status.pack()\n",
    "\n",
    "# Start the main loop\n",
    "window.mainloop()\n"
   ]
  },
  {
   "cell_type": "code",
   "execution_count": 6,
   "metadata": {},
   "outputs": [
    {
     "name": "stdout",
     "output_type": "stream",
     "text": [
      "Defaulting to user installation because normal site-packages is not writeableNote: you may need to restart the kernel to use updated packages.\n",
      "\n",
      "Collecting opencv-contrib-python\n",
      "  Using cached opencv_contrib_python-4.7.0.72-cp37-abi3-win_amd64.whl (44.9 MB)\n",
      "Requirement already satisfied: numpy>=1.21.2 in c:\\programdata\\anaconda3\\lib\\site-packages (from opencv-contrib-python) (1.23.5)\n",
      "Installing collected packages: opencv-contrib-python\n"
     ]
    },
    {
     "name": "stderr",
     "output_type": "stream",
     "text": [
      "ERROR: Could not install packages due to an OSError: [WinError 5] Access is denied: 'C:\\\\Users\\\\adity\\\\AppData\\\\Roaming\\\\Python\\\\Python310\\\\site-packages\\\\cv2\\\\cv2.pyd'\n",
      "Check the permissions.\n",
      "\n"
     ]
    }
   ],
   "source": [
    "\n",
    "pip install opencv-contrib-python"
   ]
  },
  {
   "cell_type": "code",
   "execution_count": 2,
   "metadata": {},
   "outputs": [
    {
     "name": "stdout",
     "output_type": "stream",
     "text": [
      "Recognizing Face Please Be in sufficient Lights...\n"
     ]
    },
    {
     "ename": "AttributeError",
     "evalue": "module 'cv2' has no attribute 'face'",
     "output_type": "error",
     "traceback": [
      "\u001b[1;31m---------------------------------------------------------------------------\u001b[0m",
      "\u001b[1;31mAttributeError\u001b[0m                            Traceback (most recent call last)",
      "Cell \u001b[1;32mIn[2], line 29\u001b[0m\n\u001b[0;32m     25\u001b[0m (images, labels) \u001b[38;5;241m=\u001b[39m [numpy\u001b[38;5;241m.\u001b[39marray(lis) \u001b[38;5;28;01mfor\u001b[39;00m lis \u001b[38;5;129;01min\u001b[39;00m [images, labels]]\n\u001b[0;32m     27\u001b[0m \u001b[38;5;66;03m# OpenCV trains a model from the images\u001b[39;00m\n\u001b[0;32m     28\u001b[0m \u001b[38;5;66;03m# NOTE FOR OpenCV2: remove '.face'\u001b[39;00m\n\u001b[1;32m---> 29\u001b[0m model \u001b[38;5;241m=\u001b[39m  \u001b[43mcv2\u001b[49m\u001b[38;5;241;43m.\u001b[39;49m\u001b[43mface\u001b[49m\u001b[38;5;241m.\u001b[39mLBPHFaceRecognizer_create()\n\u001b[0;32m     30\u001b[0m model\u001b[38;5;241m.\u001b[39mtrain(images, labels)\n\u001b[0;32m     32\u001b[0m \u001b[38;5;66;03m# Part 2: Use fisherRecognizer on camera stream\u001b[39;00m\n",
      "\u001b[1;31mAttributeError\u001b[0m: module 'cv2' has no attribute 'face'"
     ]
    }
   ],
   "source": [
    "# It helps in identifying the faces\n",
    "import cv2, sys, numpy, os\n",
    "size = 4\n",
    "haar_file = 'haarcascade_frontalface_default.xml'\n",
    "datasets = 'datasets'\n",
    "\n",
    "# Part 1: Create fisherRecognizer\n",
    "print('Recognizing Face Please Be in sufficient Lights...')\n",
    "\n",
    "# Create a list of images and a list of corresponding names\n",
    "(images, labels, names, id) = ([], [], {}, 0)\n",
    "for (subdirs, dirs, files) in os.walk(datasets):\n",
    "    for subdir in dirs:\n",
    "        names[id] = subdir\n",
    "        subjectpath = os.path.join(datasets, subdir)\n",
    "        for filename in os.listdir(subjectpath):\n",
    "            path = subjectpath + '/' + filename\n",
    "            label = id\n",
    "            images.append(cv2.imread(path, 0))\n",
    "            labels.append(int(label))\n",
    "        id += 1\n",
    "(width, height) = (130, 100)\n",
    "\n",
    "# Create a Numpy array from the two lists above\n",
    "(images, labels) = [numpy.array(lis) for lis in [images, labels]]\n",
    "\n",
    "# OpenCV trains a model from the images\n",
    "# NOTE FOR OpenCV2: remove '.face'\n",
    "model =  cv2.face.LBPHFaceRecognizer_create()\n",
    "model.train(images, labels)\n",
    "\n",
    "# Part 2: Use fisherRecognizer on camera stream\n",
    "face_cascade = cv2.CascadeClassifier(haar_file)\n",
    "camera_port = 0\n",
    "webcam = cv2.VideoCapture(camera_port,cv2.CAP_DSHOW)\n",
    "while True:\n",
    "    (_, im) = webcam.read()\n",
    "    gray = cv2.cvtColor(im, cv2.COLOR_BGR2GRAY)\n",
    "    faces = face_cascade.detectMultiScale(gray, 1.3, 5)\n",
    "    for (x, y, w, h) in faces:\n",
    "        cv2.rectangle(im, (x, y), (x + w, y + h), (255, 0, 0), 2)\n",
    "        face = gray[y:y + h, x:x + w]\n",
    "        face_resize = cv2.resize(face, (width, height))\n",
    "        # Try to recognize the face\n",
    "        prediction = model.predict(face_resize)\n",
    "        cv2.rectangle(im, (x, y), (x + w, y + h), (0, 255, 0), 3)\n",
    "\n",
    "        if prediction[1]<90:\n",
    "\n",
    "            cv2.putText(im, '% s - %.0f' %\n",
    "(names[prediction[0]], prediction[1]), (x-10, y-10),\n",
    "cv2.FONT_HERSHEY_PLAIN, 1, (0, 255, 0))\n",
    "        else:\n",
    "        \n",
    "            cv2.putText(im, 'not recognized',\n",
    "(x-10, y-10), cv2.FONT_HERSHEY_PLAIN, 1, (0, 255, 0))\n",
    "\n",
    "    cv2.imshow('OpenCV', im)\n",
    "\n",
    "    key = cv2.waitKey(10)\n",
    "    if key == 27:\n",
    "        break\n",
    "    \n",
    "cv2.destroyAllWindows()"
   ]
  },
  {
   "cell_type": "code",
   "execution_count": null,
   "metadata": {},
   "outputs": [],
   "source": []
  }
 ],
 "metadata": {
  "kernelspec": {
   "display_name": "Python 3 (ipykernel)",
   "language": "python",
   "name": "python3"
  },
  "language_info": {
   "codemirror_mode": {
    "name": "ipython",
    "version": 3
   },
   "file_extension": ".py",
   "mimetype": "text/x-python",
   "name": "python",
   "nbconvert_exporter": "python",
   "pygments_lexer": "ipython3",
   "version": "3.10.9"
  }
 },
 "nbformat": 4,
 "nbformat_minor": 2
}
